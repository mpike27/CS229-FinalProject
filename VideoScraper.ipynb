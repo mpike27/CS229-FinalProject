{
 "cells": [
  {
   "cell_type": "code",
   "execution_count": 1,
   "metadata": {},
   "outputs": [],
   "source": [
    "import urllib\n",
    "from bs4 import BeautifulSoup\n",
    "from pytube import YouTube\n",
    "import cv2\n",
    "import os\n",
    "import glob\n",
    "import numpy as np\n",
    "from youtube_search import YoutubeSearch\n",
    "import Hyperparameters as hyp"
   ]
  },
  {
   "cell_type": "code",
   "execution_count": 2,
   "metadata": {},
   "outputs": [],
   "source": [
    "train_path = 'Data/Training2/'\n",
    "test_path = 'Data/Testing/'\n",
    "full_broad_urls = [('BayRmd072119', 'https://www.youtube.com/watch?v=kEyqyYJhIIg'), ('WolvesArsenal042419', 'https://www.youtube.com/watch?v=DWYKhbawzQ8')]\n",
    "highlight_urls = [('EvertonManUtd110920H', 'https://www.youtube.com/watch?v=dM1j3XAhwIE'),\n",
    "                  ('WolvesManCity122719H', 'https://www.youtube.com/watch?v=OtdjPcLMP5Y'),\n",
    "                  ('BarBetis110920H', 'https://www.youtube.com/watch?v=KugeDpzfOBY'),\n",
    "                  ('ChelSeffUtd110820H', 'https://www.youtube.com/watch?v=uyp75pH_mzU'),\n",
    "                  ('ManUtdTot100520H', 'https://www.youtube.com/watch?v=dnjNhcMsT1c'),\n",
    "                  ('SouTot092220H', 'https://www.youtube.com/watch?v=Wt-sXiQMGAc')]\n",
    "clip_len = hyp.CLIP_LEN\n",
    "train_queries = [\"La Liga Highlights\", \n",
    "                 \"Soccer Highlights\", \n",
    "                 \"Serie A Highlights\", \n",
    "                \"Bundesliga highlights\", \n",
    "                \"Russian Premier Liga Highlights\", \n",
    "                \"K-League Highlights\", \n",
    "                \"Eredivisie Highlights\", \n",
    "                \"Ligue 1 Highlights\",\n",
    "                \"MLS Highlights\", \n",
    "                 \"EPL Highlights\"]\n",
    "fps = hyp.FPS\n",
    "dim = (hyp.FRAME_RES, hyp.FRAME_RES)"
   ]
  },
  {
   "cell_type": "code",
   "execution_count": 3,
   "metadata": {},
   "outputs": [],
   "source": [
    "def downloadVideos(query, path, dim, clip_len=hyp.CLIP_LEN, fps=hyp.FPS, maxNumVids=100):\n",
    "    \"\"\"\n",
    "    Method: downloadVideos\n",
    "    ----------------------\n",
    "    This method will scrape youtube according to the query, and will download all of the videos and store them in a list.\n",
    "    If a channel is specified, the function will perform the search on the youtube channel's page.\n",
    "    ----------------------\n",
    "    Arguments:\n",
    "    query - the string that we want to search on YouTube\n",
    "    channel - Optional argument that indicates if you want to search on a given channel's page\n",
    "    ----------------------\n",
    "    Return: None\n",
    "    \"\"\"\n",
    "    print(f'Scraping videos from the query: {query}')\n",
    "    results = YoutubeSearch(query, max_results=maxNumVids).to_dict()\n",
    "    for i, result in enumerate(results):\n",
    "        uniq_id = result['id']\n",
    "        print(f\"Downloading {result['title']}...\")\n",
    "        if os.path.exists(path + uniq_id + '.npy'):\n",
    "            print(f'{uniq_id} already downloaded and parsed.')\n",
    "        else:\n",
    "            if download_from_url('https://www.youtube.com' + result['url_suffix'], uniq_id, path):\n",
    "                parseVideo(path + uniq_id + '.mp4', dim, clip_len, fps)\n",
    "                os.remove(path + uniq_id + '.mp4')"
   ]
  },
  {
   "cell_type": "code",
   "execution_count": 4,
   "metadata": {},
   "outputs": [],
   "source": [
    "def download_from_url(url, filename, path):\n",
    "    \"\"\"\n",
    "    Method: download_from_url:\n",
    "    --------------------------\n",
    "    This method will download a youtube video from a given url and add it to the list of videos.\n",
    "    --------------------------\n",
    "    Arguments:\n",
    "    url - the string form of a url\n",
    "    --------------------------\n",
    "    Return: None\n",
    "    \"\"\"\n",
    "    try:\n",
    "        YouTube(url).streams.first().download(filename=filename, output_path=path)\n",
    "        print(f\"Video {filename} downloaded successfully\")\n",
    "        return True\n",
    "#     except urllib.error.HTTPError as http:\n",
    "#         print(http.headers)\n",
    "    except Exception as exc:\n",
    "        print(f\"Tried to download {filename}, but it did not work because {exc}...\")\n",
    "        return False"
   ]
  },
  {
   "cell_type": "code",
   "execution_count": 5,
   "metadata": {},
   "outputs": [],
   "source": [
    "def parseVideo(path, dim, clip_len=hyp.CLIP_LEN, fps=hyp.FPS):\n",
    "    \"\"\"\n",
    "    Method: parseVideos\n",
    "    ----------------------\n",
    "    This method will break up each videos into a series of clips, and then format the data into a series of matrices.\n",
    "    ----------------------\n",
    "    Arguments:\n",
    "    None\n",
    "    ----------------------\n",
    "    Return: numpy array containing the training data extracted from the youtube videos\n",
    "    \"\"\"\n",
    "    counter = 0\n",
    "    cap = cv2.VideoCapture(path)\n",
    "    fps_vid = int(cap.get(cv2.CAP_PROP_FPS))\n",
    "    hasFrames = True\n",
    "    frames = []\n",
    "    counter = 1\n",
    "    while True:\n",
    "        hasFrames, image = cap.read()\n",
    "        if not hasFrames:\n",
    "            break\n",
    "        grayImg  = cv2.cvtColor(image, cv2.COLOR_BGR2GRAY)\n",
    "        compr_img = cv2.resize(grayImg, dim)\n",
    "        if counter % fps_vid == 0:\n",
    "            frames.append(compr_img)\n",
    "        counter += 1\n",
    "    frames = np.array(frames)\n",
    "    np.save(path[:-4], frames)\n",
    "    print(f\"Video {path} was parsed successfully with shape {frames.shape}\")"
   ]
  },
  {
   "cell_type": "code",
   "execution_count": 7,
   "metadata": {},
   "outputs": [
    {
     "name": "stdout",
     "output_type": "stream",
     "text": [
      "Video BayRmd072119 downloaded successfully\n",
      "Video Data/Testing/BayRmd072119.mp4 was parsed successfully with shape (6402, 32, 32)\n",
      "Video WolvesArsenal042419 downloaded successfully\n",
      "Video Data/Testing/WolvesArsenal042419.mp4 was parsed successfully with shape (6169, 32, 32)\n"
     ]
    }
   ],
   "source": [
    "num_att = 10\n",
    "for i in range(num_att):\n",
    "    print(f'Attempt {i+1} out of {num_att} attempts to download the training videos')\n",
    "    for query in train_queries:\n",
    "        downloadVideos(query, train_path, dim, clip_len=clip_len, fps=fps)\n",
    "        print()\n",
    "for video_name, url in full_broad_urls:\n",
    "    if download_from_url(url, video_name, test_path):\n",
    "        parseVideo(test_path + video_name + '.mp4', dim, clip_len=clip_len, fps=fps)\n",
    "        os.remove(test_path + video_name + '.mp4')"
   ]
  },
  {
   "cell_type": "code",
   "execution_count": null,
   "metadata": {},
   "outputs": [],
   "source": []
  }
 ],
 "metadata": {
  "kernelspec": {
   "display_name": "Python 3",
   "language": "python",
   "name": "python3"
  },
  "language_info": {
   "codemirror_mode": {
    "name": "ipython",
    "version": 3
   },
   "file_extension": ".py",
   "mimetype": "text/x-python",
   "name": "python",
   "nbconvert_exporter": "python",
   "pygments_lexer": "ipython3",
   "version": "3.7.8"
  }
 },
 "nbformat": 4,
 "nbformat_minor": 4
}
