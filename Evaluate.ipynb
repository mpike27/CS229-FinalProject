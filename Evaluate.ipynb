{
 "cells": [
  {
   "cell_type": "code",
   "execution_count": 2,
   "metadata": {},
   "outputs": [],
   "source": [
    "import numpy as np\n",
    "from tensorflow.keras import Model\n",
    "from tensorflow.keras.models import Sequential, load_model\n",
    "from tensorflow.keras.layers import Dense, Conv2D, Conv3D, Conv2DTranspose, Conv3DTranspose, Flatten, Input\n",
    "from tensorflow.keras.callbacks import ModelCheckpoint, EarlyStopping\n",
    "from sklearn.model_selection import train_test_split\n",
    "from PIL import Image\n",
    "import matplotlib.pyplot as plt\n",
    "import os\n",
    "import Hyperparameters as hyp"
   ]
  },
  {
   "cell_type": "code",
   "execution_count": 3,
   "metadata": {},
   "outputs": [],
   "source": [
    "test_path = 'Data/Testing/'\n",
    "models = [\"Base_Auto\", \"3DConv_Auto\", 'LSTMAutoEncoderModel']"
   ]
  },
  {
   "cell_type": "code",
   "execution_count": 4,
   "metadata": {},
   "outputs": [],
   "source": [
    "def getData(path, dim):\n",
    "    data = []\n",
    "    for file in os.listdir(path):\n",
    "        print(file)\n",
    "        if file[-3:] == \"npy\":\n",
    "            frames = np.load(path + file, allow_pickle=True)\n",
    "            clip = []\n",
    "            for frame in frames: \n",
    "                clip.append(frame)\n",
    "                if len(clip) == hyp.CLIP_LEN:\n",
    "                    data.append(np.array(clip))\n",
    "                    clip = []\n",
    "    return np.array(data)"
   ]
  },
  {
   "cell_type": "code",
   "execution_count": 5,
   "metadata": {},
   "outputs": [],
   "source": [
    "def computePreds(rec, x, y):\n",
    "    C = np.array([np.linalg.norm(rec[i] - x[i]) for i in range(rec.shape[0])])\n",
    "    Z = (C - np.mean(C)) / np.std(C)\n",
    "    probs = np.ones(Z.shape[0]) - (1/(1 + np.exp(-Z)))\n",
    "    n = int(probs.shape[0] * hyp.HIGHLIGHT_RATIO)\n",
    "    pos_ind = set(probs.argsort()[-n:][::-1])\n",
    "    y_hat = np.array([1 if i in pos_ind else 0 for i in range(probs.shape[0])])\n",
    "#     y_hat = np.array([1 if probs[i] > 0.75 else 0 for i in range(probs.shape[0])])\n",
    "    return y_hat"
   ]
  },
  {
   "cell_type": "code",
   "execution_count": 6,
   "metadata": {},
   "outputs": [],
   "source": [
    "def plot(y_hat, y):\n",
    "    plt.figure(figsize=(8, 6))\n",
    "    plt.ylabel('Classification')\n",
    "    plt.xlabel('Clip number')\n",
    "    plt.plot(y_hat, label='Predictions')\n",
    "    plt.plot(y, label=\"Actual\")\n",
    "    plt.legend()\n",
    "    plt.show()"
   ]
  },
  {
   "cell_type": "code",
   "execution_count": 7,
   "metadata": {},
   "outputs": [],
   "source": [
    "# def mse(y_hat, y):\n",
    "#     return np.sum((y_hat - y)**2) / y.shape[0]"
   ]
  },
  {
   "cell_type": "code",
   "execution_count": 8,
   "metadata": {},
   "outputs": [],
   "source": [
    "def get_eval_metrics(y_hat, y):\n",
    "    TP = 0\n",
    "    FP = 0\n",
    "    TN = 0\n",
    "    FN = 0\n",
    "    for i in range(y.shape[0]):\n",
    "        if y[i] == 1 and y_hat[i] == 1:\n",
    "            TP += 1\n",
    "        elif y[i] == 1 and y_hat[i] == 0:\n",
    "            FN += 1\n",
    "        elif  y[i] == 0 and y_hat[i] == 1:\n",
    "            FP += 1\n",
    "        else:\n",
    "            TN += 1\n",
    "    A = float(TP + TN) / float(TP + TN + FN + FP)\n",
    "    A_0 = float(TN) / float(TN + FP)\n",
    "    A_1 = float(TP) / float(TP + FN)\n",
    "    A_bar = 0.5 * (A_0 + A_1)\n",
    "    \n",
    "    A = float(TP + TN)/float(TP + TN + FP + FN)\n",
    "    \n",
    "    R = float(TP)/float(TP + FN)\n",
    "    return A, A_bar, R"
   ]
  },
  {
   "cell_type": "code",
   "execution_count": null,
   "metadata": {
    "scrolled": false
   },
   "outputs": [
    {
     "name": "stdout",
     "output_type": "stream",
     "text": [
      "WolvesArsenal042419.csv\n",
      "WolvesArsenal042419.npy\n",
      ".ipynb_checkpoints\n",
      "BayRmd072119.npy\n",
      "BayRmd072119.csv\n",
      "(1256, 10, 32, 32)\n",
      "test_flat shape is (1256, 10240)\n",
      "test_data shape is (1256, 10, 32, 32, 1)\n",
      "Test_y shape is (420,)\n",
      "Test_y shape is (1256,)\n"
     ]
    }
   ],
   "source": [
    "test_data = getData(test_path, (32, 32))\n",
    "test_flat = np.array([np.ravel(test_data[i]) for i in range(test_data.shape[0])])\n",
    "test_data = test_data.reshape((test_data.shape[0], test_data.shape[1], test_data.shape[2], test_data.shape[3], 1))\n",
    "print(f\"test_flat shape is {test_flat.shape}\")\n",
    "print(f\"test_data shape is {test_data.shape}\")\n",
    "test_y1 = np.genfromtxt(test_path + 'WolvesArsenal042419.csv', delimiter=\",\")\n",
    "test_y2 = np.genfromtxt(test_path + 'BayRmd072119.csv', delimiter=\",\")\n",
    "test_y2 = np.delete(test_y2, 1, 1)\n",
    "test_y = np.append(test_y1, test_y2)\n",
    "temp = []\n",
    "for j in range(test_y.shape[0]):\n",
    "    for k in range(3):\n",
    "        temp.append(test_y[j])\n",
    "while len(temp) > test_data.shape[0]:\n",
    "    temp.pop()\n",
    "test_y = np.array(temp)\n",
    "print(f\"Test_y shape is {test_y.shape}\")\n",
    "for i in range(len(models)):\n",
    "    model = load_model(models[i])\n",
    "    if i == 0:\n",
    "        rec = model.predict(test_flat)\n",
    "        preds = computePreds(rec, test_flat, test_y)\n",
    "    else:\n",
    "        rec = model.predict(test_data)\n",
    "        preds = computePreds(rec, test_data, test_y)\n",
    "    preds = preds.reshape((preds.shape[0], 1))\n",
    "    plot(preds, test_y)\n",
    "    print(f\"The Loss for Model: {models[i]} is {loss}.\")\n",
    "    A, A_bar, recall = get_eval_metrics(preds, test_y)\n",
    "    print(f\"The accuracy(A) for Model: {models[i]} is {A}.\")\n",
    "    print(f\"The weighted accuracy(A_Bar) for Model: {models[i]} is {A_bar}.\")\n",
    "    print(f\"The recall(R) for Model: {models[i]} is {recall}.\")"
   ]
  },
  {
   "cell_type": "code",
   "execution_count": null,
   "metadata": {},
   "outputs": [],
   "source": []
  }
 ],
 "metadata": {
  "kernelspec": {
   "display_name": "Python 3",
   "language": "python",
   "name": "python3"
  },
  "language_info": {
   "codemirror_mode": {
    "name": "ipython",
    "version": 3
   },
   "file_extension": ".py",
   "mimetype": "text/x-python",
   "name": "python",
   "nbconvert_exporter": "python",
   "pygments_lexer": "ipython3",
   "version": "3.7.8"
  }
 },
 "nbformat": 4,
 "nbformat_minor": 4
}
